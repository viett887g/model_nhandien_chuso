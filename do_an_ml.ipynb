{
 "cells": [
  {
   "cell_type": "code",
   "execution_count": 10,
   "id": "4db45b6f-0917-40bb-b0cc-5fd1972dc5dc",
   "metadata": {},
   "outputs": [],
   "source": [
    "from keras.models import Sequential\n",
    "from keras.layers import Dense,Conv2D,Flatten,MaxPooling2D\n",
    "import matplotlib.pyplot as plt\n",
    "import keras.datasets as mnist\n",
    "import tensorflow.keras as tk\n",
    "from keras.utils import to_categorical\n",
    "import numpy as np\n",
    "import keras"
   ]
  },
  {
   "cell_type": "code",
   "execution_count": 11,
   "id": "a8caf134-b0b0-4608-b6a3-d64118f2650c",
   "metadata": {},
   "outputs": [],
   "source": [
    "(x_train, y_train), (x_test, y_test) = keras.datasets.mnist.load_data()"
   ]
  },
  {
   "cell_type": "code",
   "execution_count": null,
   "id": "6a2b595b-075d-4469-9335-2950d1726bd9",
   "metadata": {},
   "outputs": [],
   "source": [
    "# mnist = tk.datasets.mnist\n",
    "# (x_train, y_train), (x_test, y_test) = mnist.load_data()\n",
    "# x_train.shape\n",
    "# x_test.shape\n",
    "# # co 60.000 anh de train va 10k anh de test"
   ]
  },
  {
   "cell_type": "code",
   "execution_count": 16,
   "id": "c8f3c676-3fc9-4b18-9d53-5eec07277344",
   "metadata": {},
   "outputs": [
    {
     "data": {
      "text/plain": [
       "<matplotlib.image.AxesImage at 0x1bd2f5bc760>"
      ]
     },
     "execution_count": 16,
     "metadata": {},
     "output_type": "execute_result"
    },
    {
     "data": {
      "image/png": "[encoded data removed]",
      "text/plain": [
       "<Figure size 640x480 with 1 Axes>"
      ]
     },
     "metadata": {},
     "output_type": "display_data"
    }
   ],
   "source": [
    "plt.imshow(x_train[5])"
   ]
  },
  {
   "cell_type": "code",
   "execution_count": 56,
   "id": "d68a9987-13cb-4071-933a-fd9d9e70cd69",
   "metadata": {},
   "outputs": [],
   "source": [
    "X_train = x_train.reshape(60000,28,28,1)\n",
    "X_test = x_test.reshape(10000,28,28,1)\n",
    "# dua anh ve anh xam"
   ]
  },
  {
   "cell_type": "code",
   "execution_count": 57,
   "id": "95238719-5641-4e39-a76e-2cdad0e790e9",
   "metadata": {},
   "outputs": [
    {
     "data": {
      "text/plain": [
       "array([0., 0., 0., 0., 0., 1., 0., 0., 0., 0.], dtype=float32)"
      ]
     },
     "execution_count": 57,
     "metadata": {},
     "output_type": "execute_result"
    }
   ],
   "source": [
    "y_train = to_categorical(y_train)\n",
    "y_test = to_categorical(y_test)\n",
    "y_train[0]"
   ]
  },
  {
   "cell_type": "code",
   "execution_count": 60,
   "id": "19ec682e-b9e5-4f20-9b0a-9f97d883c3b1",
   "metadata": {},
   "outputs": [],
   "source": [
    "# tao models\n",
    "model = Sequential()\n",
    "# add model vao layer\n",
    "model.add(Conv2D(64,kernel_size=(3,3),activation= 'relu',input_shape=(28,28,1),padding='same'))\n",
    "model.add(MaxPooling2D(pool_size=(2,2),strides=2))\n",
    "\n",
    "model.add(Conv2D(32,kernel_size=(3,3),activation= 'relu',input_shape=(28,28,1),padding='same' ))\n",
    "model.add(MaxPooling2D(pool_size=(2,2),strides=2))\n",
    "\n",
    "model.add(Flatten())\n",
    "model.add(Dense(10,activation='softmax'))"
   ]
  },
  {
   "cell_type": "code",
   "execution_count": 63,
   "id": "a4dbb6c4-194e-4bf7-8562-66ec38a8940e",
   "metadata": {},
   "outputs": [
    {
     "name": "stdout",
     "output_type": "stream",
     "text": [
      "Model: \"sequential_4\"\n",
      "_________________________________________________________________\n",
      " Layer (type)                Output Shape              Param #   \n",
      "=================================================================\n",
      " conv2d_4 (Conv2D)           (None, 28, 28, 64)        640       \n",
      "                                                                 \n",
      " max_pooling2d (MaxPooling2D  (None, 14, 14, 64)       0         \n",
      " )                                                               \n",
      "                                                                 \n",
      " conv2d_5 (Conv2D)           (None, 14, 14, 32)        18464     \n",
      "                                                                 \n",
      " max_pooling2d_1 (MaxPooling  (None, 7, 7, 32)         0         \n",
      " 2D)                                                             \n",
      "                                                                 \n",
      " flatten (Flatten)           (None, 1568)              0         \n",
      "                                                                 \n",
      " dense (Dense)               (None, 10)                15690     \n",
      "                                                                 \n",
      "=================================================================\n",
      "Total params: 34,794\n",
      "Trainable params: 34,794\n",
      "Non-trainable params: 0\n",
      "_________________________________________________________________\n"
     ]
    }
   ],
   "source": [
    "model.compile(optimizer='adam',loss='categorical_crossentropy',metrics=['accuracy'])\n",
    "model.summary()"
   ]
  },
  {
   "cell_type": "code",
   "execution_count": 64,
   "id": "7b8a0bcf-b0e8-40f1-a804-13e7488c0940",
   "metadata": {},
   "outputs": [
    {
     "name": "stdout",
     "output_type": "stream",
     "text": [
      "Epoch 1/3\n",
      "1875/1875 [==============================] - 77s 40ms/step - loss: 0.2528 - accuracy: 0.9448 - val_loss: 0.0735 - val_accuracy: 0.9762\n",
      "Epoch 2/3\n",
      "1875/1875 [==============================] - 71s 38ms/step - loss: 0.0701 - accuracy: 0.9792 - val_loss: 0.0518 - val_accuracy: 0.9841\n",
      "Epoch 3/3\n",
      "1875/1875 [==============================] - 72s 38ms/step - loss: 0.0564 - accuracy: 0.9826 - val_loss: 0.0513 - val_accuracy: 0.9828\n"
     ]
    },
    {
     "data": {
      "text/plain": [
       "<keras.callbacks.History at 0x1d130853ca0>"
      ]
     },
     "execution_count": 64,
     "metadata": {},
     "output_type": "execute_result"
    }
   ],
   "source": [
    "model.fit(X_train,y_train,validation_data=(X_test,y_test),epochs=3)"
   ]
  },
  {
   "cell_type": "code",
   "execution_count": 66,
   "id": "882ddf1f-7fa2-4d06-9e71-a540cb61d807",
   "metadata": {},
   "outputs": [],
   "source": [
    "# luu model\n",
    "model.save('model_doan.h5') \n"
   ]
  },
  {
   "cell_type": "code",
   "execution_count": 80,
   "id": "89bddb2b-03d9-4826-9a68-4f06a05e770b",
   "metadata": {},
   "outputs": [
    {
     "name": "stdout",
     "output_type": "stream",
     "text": [
      "1/1 [==============================] - 0s 56ms/step\n"
     ]
    },
    {
     "data": {
      "text/plain": [
       "array([[7.3691787e-16, 1.7553289e-08, 4.4359755e-12, 7.1220590e-13,\n",
       "        1.0000000e+00, 4.9356315e-09, 2.5866648e-14, 2.1798261e-08,\n",
       "        1.3829315e-11, 1.6696228e-08]], dtype=float32)"
      ]
     },
     "execution_count": 80,
     "metadata": {},
     "output_type": "execute_result"
    }
   ],
   "source": [
    "y_hat=model.predict(X_test[19:20])\n",
    "y_hat"
   ]
  },
  {
   "cell_type": "code",
   "execution_count": 81,
   "id": "153772cf-f6fa-4933-9d36-34659d33fb31",
   "metadata": {},
   "outputs": [
    {
     "data": {
      "text/plain": [
       "array([4], dtype=int64)"
      ]
     },
     "execution_count": 81,
     "metadata": {},
     "output_type": "execute_result"
    }
   ],
   "source": [
    "# du doan\n",
    "y_label= np.argmax(y_hat,axis=1)\n",
    "y_label "
   ]
  },
  {
   "cell_type": "code",
   "execution_count": 82,
   "id": "c8145e74-bca7-46aa-a650-429081135ae8",
   "metadata": {},
   "outputs": [
    {
     "data": {
      "text/plain": [
       "<matplotlib.image.AxesImage at 0x1d136fc1060>"
      ]
     },
     "execution_count": 82,
     "metadata": {},
     "output_type": "execute_result"
    },
    {
     "data": {
      "image/png": "[encoded data removed]",
      "text/plain": [
       "<Figure size 640x480 with 1 Axes>"
      ]
     },
     "metadata": {},
     "output_type": "display_data"
    }
   ],
   "source": [
    "# gia tri thuc\n",
    "(x_train, y_train), (x_test1, y_test) = keras.datasets.mnist.load_data()\n",
    "plt.imshow(x_test1[19])"
   ]
  }
 ],
 "metadata": {
  "kernelspec": {
   "display_name": "Python 3 (ipykernel)",
   "language": "python",
   "name": "python3"
  },
  "language_info": {
   "codemirror_mode": {
    "name": "ipython",
    "version": 3
   },
   "file_extension": ".py",
   "mimetype": "text/x-python",
   "name": "python",
   "nbconvert_exporter": "python",
   "pygments_lexer": "ipython3",
   "version": "3.10.9"
  }
 },
 "nbformat": 4,
 "nbformat_minor": 5
}
